{
 "cells": [
  {
   "cell_type": "code",
   "execution_count": 4,
   "id": "ea43ba2d-6253-4ab1-b1ce-197bcc499d90",
   "metadata": {},
   "outputs": [
    {
     "name": "stdout",
     "output_type": "stream",
     "text": [
      "Requirement already satisfied: pandas in d:\\anaconda\\lib\\site-packages (2.2.3)\n",
      "Requirement already satisfied: numpy in d:\\anaconda\\lib\\site-packages (2.1.3)\n",
      "Requirement already satisfied: scikit-learn in d:\\anaconda\\lib\\site-packages (1.6.1)\n",
      "Requirement already satisfied: statsmodels in d:\\anaconda\\lib\\site-packages (0.14.4)\n",
      "Requirement already satisfied: seaborn in d:\\anaconda\\lib\\site-packages (0.13.2)\n",
      "Requirement already satisfied: python-dateutil>=2.8.2 in d:\\anaconda\\lib\\site-packages (from pandas) (2.9.0.post0)\n",
      "Requirement already satisfied: pytz>=2020.1 in d:\\anaconda\\lib\\site-packages (from pandas) (2024.1)\n",
      "Requirement already satisfied: tzdata>=2022.7 in d:\\anaconda\\lib\\site-packages (from pandas) (2025.2)\n",
      "Requirement already satisfied: scipy>=1.6.0 in d:\\anaconda\\lib\\site-packages (from scikit-learn) (1.15.3)\n",
      "Requirement already satisfied: joblib>=1.2.0 in d:\\anaconda\\lib\\site-packages (from scikit-learn) (1.4.2)\n",
      "Requirement already satisfied: threadpoolctl>=3.1.0 in d:\\anaconda\\lib\\site-packages (from scikit-learn) (3.5.0)\n",
      "Requirement already satisfied: patsy>=0.5.6 in d:\\anaconda\\lib\\site-packages (from statsmodels) (1.0.1)\n",
      "Requirement already satisfied: packaging>=21.3 in d:\\anaconda\\lib\\site-packages (from statsmodels) (24.2)\n",
      "Requirement already satisfied: matplotlib!=3.6.1,>=3.4 in d:\\anaconda\\lib\\site-packages (from seaborn) (3.10.0)\n",
      "Requirement already satisfied: contourpy>=1.0.1 in d:\\anaconda\\lib\\site-packages (from matplotlib!=3.6.1,>=3.4->seaborn) (1.3.1)\n",
      "Requirement already satisfied: cycler>=0.10 in d:\\anaconda\\lib\\site-packages (from matplotlib!=3.6.1,>=3.4->seaborn) (0.11.0)\n",
      "Requirement already satisfied: fonttools>=4.22.0 in d:\\anaconda\\lib\\site-packages (from matplotlib!=3.6.1,>=3.4->seaborn) (4.55.3)\n",
      "Requirement already satisfied: kiwisolver>=1.3.1 in d:\\anaconda\\lib\\site-packages (from matplotlib!=3.6.1,>=3.4->seaborn) (1.4.8)\n",
      "Requirement already satisfied: pillow>=8 in d:\\anaconda\\lib\\site-packages (from matplotlib!=3.6.1,>=3.4->seaborn) (11.1.0)\n",
      "Requirement already satisfied: pyparsing>=2.3.1 in d:\\anaconda\\lib\\site-packages (from matplotlib!=3.6.1,>=3.4->seaborn) (3.2.0)\n",
      "Requirement already satisfied: six>=1.5 in d:\\anaconda\\lib\\site-packages (from python-dateutil>=2.8.2->pandas) (1.17.0)\n"
     ]
    }
   ],
   "source": [
    "!pip install pandas numpy scikit-learn statsmodels seaborn\n"
   ]
  },
  {
   "cell_type": "code",
   "execution_count": 10,
   "id": "34ce6bda-bdd8-4c61-b2e1-fad1ae14d191",
   "metadata": {},
   "outputs": [
    {
     "name": "stdout",
     "output_type": "stream",
     "text": [
      "Requirement already satisfied: statsmodels in d:\\anaconda\\lib\\site-packages (0.14.4)\n",
      "Requirement already satisfied: numpy<3,>=1.22.3 in d:\\anaconda\\lib\\site-packages (from statsmodels) (2.1.3)\n",
      "Requirement already satisfied: scipy!=1.9.2,>=1.8 in d:\\anaconda\\lib\\site-packages (from statsmodels) (1.15.3)\n",
      "Requirement already satisfied: pandas!=2.1.0,>=1.4 in d:\\anaconda\\lib\\site-packages (from statsmodels) (2.2.3)\n",
      "Requirement already satisfied: patsy>=0.5.6 in d:\\anaconda\\lib\\site-packages (from statsmodels) (1.0.1)\n",
      "Requirement already satisfied: packaging>=21.3 in d:\\anaconda\\lib\\site-packages (from statsmodels) (24.2)\n",
      "Requirement already satisfied: python-dateutil>=2.8.2 in d:\\anaconda\\lib\\site-packages (from pandas!=2.1.0,>=1.4->statsmodels) (2.9.0.post0)\n",
      "Requirement already satisfied: pytz>=2020.1 in d:\\anaconda\\lib\\site-packages (from pandas!=2.1.0,>=1.4->statsmodels) (2024.1)\n",
      "Requirement already satisfied: tzdata>=2022.7 in d:\\anaconda\\lib\\site-packages (from pandas!=2.1.0,>=1.4->statsmodels) (2025.2)\n",
      "Requirement already satisfied: six>=1.5 in d:\\anaconda\\lib\\site-packages (from python-dateutil>=2.8.2->pandas!=2.1.0,>=1.4->statsmodels) (1.17.0)\n",
      "Note: you may need to restart the kernel to use updated packages.\n"
     ]
    }
   ],
   "source": [
    "pip install statsmodels\n"
   ]
  },
  {
   "cell_type": "code",
   "execution_count": 11,
   "id": "f467c4e9-3c42-4724-b5c0-e28e6e5ac40b",
   "metadata": {},
   "outputs": [
    {
     "name": "stdout",
     "output_type": "stream",
     "text": [
      "const       0\n",
      "gre         0\n",
      "gpa         0\n",
      "rank_2.0    0\n",
      "rank_3.0    0\n",
      "rank_4.0    0\n",
      "dtype: int64\n",
      "0\n"
     ]
    }
   ],
   "source": [
    "print(X.isnull().sum())\n",
    "print(y.isnull().sum())\n"
   ]
  },
  {
   "cell_type": "code",
   "execution_count": 12,
   "id": "51acac5a-01b1-41ef-8d9e-56f8b7d183bc",
   "metadata": {},
   "outputs": [],
   "source": [
    "X = X.dropna()\n",
    "y = y.loc[X.index]\n"
   ]
  },
  {
   "cell_type": "code",
   "execution_count": 14,
   "id": "b018c5eb-537f-479e-a346-aab6db6254f4",
   "metadata": {},
   "outputs": [],
   "source": [
    "X = X.apply(pd.to_numeric)\n",
    "y = pd.to_numeric(y)\n"
   ]
  },
  {
   "cell_type": "code",
   "execution_count": 17,
   "id": "f4dc462b-2a18-4bf4-827d-25639e6a4dec",
   "metadata": {},
   "outputs": [
    {
     "name": "stdout",
     "output_type": "stream",
     "text": [
      "X dtypes before conversion:\n",
      " const       float64\n",
      "gre         float32\n",
      "gpa         float32\n",
      "rank_2.0       bool\n",
      "rank_3.0       bool\n",
      "rank_4.0       bool\n",
      "dtype: object\n",
      "y dtype: int64\n",
      "X dtypes after conversion:\n",
      " const       float64\n",
      "gre         float64\n",
      "gpa         float64\n",
      "rank_2.0    float64\n",
      "rank_3.0    float64\n",
      "rank_4.0    float64\n",
      "dtype: object\n",
      "Optimization terminated successfully.\n",
      "         Current function value: 0.573147\n",
      "         Iterations 6\n",
      "                           Logit Regression Results                           \n",
      "==============================================================================\n",
      "Dep. Variable:                  admit   No. Observations:                  400\n",
      "Model:                          Logit   Df Residuals:                      394\n",
      "Method:                           MLE   Df Model:                            5\n",
      "Date:                Wed, 30 Jul 2025   Pseudo R-squ.:                 0.08292\n",
      "Time:                        23:26:11   Log-Likelihood:                -229.26\n",
      "converged:                       True   LL-Null:                       -249.99\n",
      "Covariance Type:            nonrobust   LLR p-value:                 7.578e-08\n",
      "==============================================================================\n",
      "                 coef    std err          z      P>|z|      [0.025      0.975]\n",
      "------------------------------------------------------------------------------\n",
      "const         -3.9900      1.140     -3.500      0.000      -6.224      -1.756\n",
      "gre            0.0023      0.001      2.070      0.038       0.000       0.004\n",
      "gpa            0.8040      0.332      2.423      0.015       0.154       1.454\n",
      "rank_2.0      -0.6754      0.316     -2.134      0.033      -1.296      -0.055\n",
      "rank_3.0      -1.3402      0.345     -3.881      0.000      -2.017      -0.663\n",
      "rank_4.0      -1.5515      0.418     -3.713      0.000      -2.370      -0.733\n",
      "==============================================================================\n"
     ]
    }
   ],
   "source": [
    "import pandas as pd\n",
    "import statsmodels.api as sm\n",
    "\n",
    "# Load dataset\n",
    "url = \"https://stats.idre.ucla.edu/stat/data/binary.dta\"\n",
    "data = pd.read_stata(url)\n",
    "\n",
    "# Convert target to int\n",
    "data['admit'] = data['admit'].astype(int)\n",
    "\n",
    "# One-hot encode 'rank'\n",
    "X = pd.get_dummies(data[['gre', 'gpa', 'rank']], columns=['rank'], drop_first=True)\n",
    "y = data['admit']\n",
    "\n",
    "# Add intercept term\n",
    "X = sm.add_constant(X)\n",
    "\n",
    "# 👇 DEBUG: Check dtypes\n",
    "print(\"X dtypes before conversion:\\n\", X.dtypes)\n",
    "print(\"y dtype:\", y.dtype)\n",
    "\n",
    "# Force numeric conversion\n",
    "X = X.astype(float)\n",
    "y = y.astype(int)\n",
    "\n",
    "# Drop any NA just in case\n",
    "X = X.dropna()\n",
    "y = y.loc[X.index]\n",
    "\n",
    "# DEBUG: Check again\n",
    "print(\"X dtypes after conversion:\\n\", X.dtypes)\n",
    "\n",
    "# Fit model\n",
    "model = sm.Logit(y, X)\n",
    "result = model.fit()\n",
    "\n",
    "# Show summary\n",
    "print(result.summary())\n"
   ]
  },
  {
   "cell_type": "code",
   "execution_count": 22,
   "id": "43e920b7-1f13-4000-ad4a-36e48ec01da9",
   "metadata": {},
   "outputs": [
    {
     "name": "stdout",
     "output_type": "stream",
     "text": [
      "Optimization terminated successfully.\n",
      "         Current function value: 0.499342\n",
      "         Iterations 5\n",
      "                           Logit Regression Results                           \n",
      "==============================================================================\n",
      "Dep. Variable:                Disease   No. Observations:                   20\n",
      "Model:                          Logit   Df Residuals:                       16\n",
      "Method:                           MLE   Df Model:                            3\n",
      "Date:                Wed, 30 Jul 2025   Pseudo R-squ.:                  0.2796\n",
      "Time:                        23:31:04   Log-Likelihood:                -9.9868\n",
      "converged:                       True   LL-Null:                       -13.863\n",
      "Covariance Type:            nonrobust   LLR p-value:                   0.05142\n",
      "==============================================================================\n",
      "                 coef    std err          z      P>|z|      [0.025      0.975]\n",
      "------------------------------------------------------------------------------\n",
      "const         -2.2617      9.425     -0.240      0.810     -20.734      16.211\n",
      "Age           -0.0210      0.101     -0.208      0.836      -0.220       0.178\n",
      "BMI            0.0639      0.461      0.139      0.890      -0.839       0.967\n",
      "Smoker         2.7869      2.073      1.344      0.179      -1.276       6.850\n",
      "==============================================================================\n"
     ]
    }
   ],
   "source": [
    "import pandas as pd\n",
    "import statsmodels.api as sm\n",
    "\n",
    "# ✅ Balanced dataset (no perfect separation)\n",
    "data = pd.DataFrame({\n",
    "    'Age':     [25, 45, 35, 50, 23, 64, 33, 52, 41, 37, 29, 39, 46, 34, 57, 31, 49, 38, 27, 44],\n",
    "    'BMI':     [22, 28, 25, 30, 21, 29, 26, 31, 29, 24, 27, 26, 28, 25, 32, 24, 29, 27, 23, 30],\n",
    "    'Smoker':  [0, 1, 0, 1, 0, 1, 0, 1, 1, 0, 1, 0, 1, 0, 1, 0, 1, 0, 0, 1],\n",
    "    'Disease': [0, 1, 0, 1, 0, 1, 0, 0, 1, 0, 1, 0, 0, 1, 1, 1, 1, 0, 0, 1]  # 🧠 Mixed targets\n",
    "})\n",
    "\n",
    "# Features and target\n",
    "X = data[['Age', 'BMI', 'Smoker']]\n",
    "y = data['Disease']\n",
    "\n",
    "# Add intercept\n",
    "X = sm.add_constant(X)\n",
    "\n",
    "# Fit logistic regression\n",
    "model = sm.Logit(y, X)\n",
    "result = model.fit()\n",
    "\n",
    "# Summary\n",
    "print(result.summary())\n"
   ]
  },
  {
   "cell_type": "code",
   "execution_count": 24,
   "id": "190bac70-4f00-42c6-8432-971957d4bb70",
   "metadata": {},
   "outputs": [
    {
     "name": "stdout",
     "output_type": "stream",
     "text": [
      "Optimization terminated successfully.\n",
      "         Current function value: 0.397422\n",
      "         Iterations 7\n",
      "                           Logit Regression Results                           \n",
      "==============================================================================\n",
      "Dep. Variable:          BoughtProduct   No. Observations:                   15\n",
      "Model:                          Logit   Df Residuals:                       11\n",
      "Method:                           MLE   Df Model:                            3\n",
      "Date:                Wed, 30 Jul 2025   Pseudo R-squ.:                  0.4248\n",
      "Time:                        23:32:49   Log-Likelihood:                -5.9613\n",
      "converged:                       True   LL-Null:                       -10.364\n",
      "Covariance Type:            nonrobust   LLR p-value:                   0.03200\n",
      "================================================================================\n",
      "                   coef    std err          z      P>|z|      [0.025      0.975]\n",
      "--------------------------------------------------------------------------------\n",
      "const           -4.5258      7.908     -0.572      0.567     -20.024      10.973\n",
      "Age              0.0052      0.361      0.014      0.988      -0.702       0.712\n",
      "BrowsingTime     0.1456      0.227      0.643      0.520      -0.298       0.590\n",
      "ClickedAd        1.3236      1.479      0.895      0.371      -1.576       4.223\n",
      "================================================================================\n"
     ]
    }
   ],
   "source": [
    "import pandas as pd\n",
    "import statsmodels.api as sm\n",
    "\n",
    "# Modified data to avoid perfect separation\n",
    "data = pd.DataFrame({\n",
    "    'Age':           [22, 35, 26, 40, 29, 50, 33, 42, 31, 47, 24, 38, 30, 44, 36],\n",
    "    'BrowsingTime':  [5, 25, 15, 35, 10, 45, 20, 30, 12, 50, 8, 28, 18, 40, 22],\n",
    "    'ClickedAd':     [0, 1, 0, 1, 0, 1, 0, 1, 1, 0, 1, 0, 1, 1, 0],\n",
    "    'BoughtProduct': [0, 1, 0, 1, 0, 1, 0, 0, 1, 1, 0, 1, 0, 1, 0]\n",
    "})\n",
    "\n",
    "X = data[['Age', 'BrowsingTime', 'ClickedAd']]\n",
    "y = data['BoughtProduct']\n",
    "\n",
    "X = sm.add_constant(X)\n",
    "\n",
    "model = sm.Logit(y, X)\n",
    "result = model.fit()\n",
    "\n",
    "print(result.summary())\n"
   ]
  },
  {
   "cell_type": "code",
   "execution_count": null,
   "id": "68f365b3-571d-4c55-bdc0-853453e27b1b",
   "metadata": {},
   "outputs": [],
   "source": []
  }
 ],
 "metadata": {
  "kernelspec": {
   "display_name": "Python 3 (ipykernel)",
   "language": "python",
   "name": "python3"
  },
  "language_info": {
   "codemirror_mode": {
    "name": "ipython",
    "version": 3
   },
   "file_extension": ".py",
   "mimetype": "text/x-python",
   "name": "python",
   "nbconvert_exporter": "python",
   "pygments_lexer": "ipython3",
   "version": "3.13.5"
  }
 },
 "nbformat": 4,
 "nbformat_minor": 5
}
